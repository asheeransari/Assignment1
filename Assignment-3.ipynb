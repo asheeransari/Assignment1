{
 "cells": [
  {
   "cell_type": "code",
   "execution_count": 1,
   "id": "475e35ab-4d43-4790-bf42-ac338f86c892",
   "metadata": {},
   "outputs": [],
   "source": [
    "#Q1. Which keyword is used to create a function? Create a function to return a list of odd numbers in the \n",
    "#range of 1 to 25."
   ]
  },
  {
   "cell_type": "code",
   "execution_count": 2,
   "id": "46519603-ec0f-482a-97a8-d46073cf4f08",
   "metadata": {},
   "outputs": [],
   "source": [
    "#ANS : In Python, the keyword used to create a function is def.\n",
    "#Here's the function to return a list of odd numbers in the range of 1 to 25:"
   ]
  },
  {
   "cell_type": "code",
   "execution_count": 3,
   "id": "7f16a5e1-2440-49ce-8de1-fa7e605f9ad7",
   "metadata": {},
   "outputs": [],
   "source": [
    "odd_num=[]\n",
    "def find_odd():\n",
    "    for i in range(26):\n",
    "        if i%2!=0:\n",
    "            odd_num.append(i)\n",
    "    return odd_num"
   ]
  },
  {
   "cell_type": "code",
   "execution_count": 11,
   "id": "3fbe14af-2494-4c6d-8166-1eb68d2199de",
   "metadata": {},
   "outputs": [
    {
     "data": {
      "text/plain": [
       "[1,\n",
       " 3,\n",
       " 5,\n",
       " 7,\n",
       " 9,\n",
       " 11,\n",
       " 13,\n",
       " 15,\n",
       " 17,\n",
       " 19,\n",
       " 21,\n",
       " 23,\n",
       " 25,\n",
       " 1,\n",
       " 3,\n",
       " 5,\n",
       " 7,\n",
       " 9,\n",
       " 11,\n",
       " 13,\n",
       " 15,\n",
       " 17,\n",
       " 19,\n",
       " 21,\n",
       " 23,\n",
       " 25]"
      ]
     },
     "execution_count": 11,
     "metadata": {},
     "output_type": "execute_result"
    }
   ],
   "source": [
    "find_odd()"
   ]
  },
  {
   "cell_type": "code",
   "execution_count": null,
   "id": "21386e8b-8dfd-4b76-8fa0-4dc555eb7fb7",
   "metadata": {},
   "outputs": [],
   "source": [
    "#Q2. Why *args and **kwargs is used in some functions? Create a function each for *args and **kwargs\n",
    "#to demonstrate their use."
   ]
  },
  {
   "cell_type": "code",
   "execution_count": 6,
   "id": "9d2c482f-ac69-4ea3-a12c-89dc1e86ae09",
   "metadata": {},
   "outputs": [],
   "source": [
    "#ANS :\n",
    "#*args allows you to pass a variable number of non-keyword arguments to a function. It is often used when you want to pass a variable number of arguments without specifically naming them.\n",
    "\n",
    "#**kwargs allows you to pass a variable number of keyword arguments to a function. It is often used when you want to handle named arguments of varying quantities within a function.\n",
    "\n",
    "#Here are examples of functions using *args and **kwargs:"
   ]
  },
  {
   "cell_type": "code",
   "execution_count": 7,
   "id": "497aff99-0852-4b3d-be87-6c6c474cb449",
   "metadata": {},
   "outputs": [
    {
     "name": "stdout",
     "output_type": "stream",
     "text": [
      "15\n"
     ]
    }
   ],
   "source": [
    "#*Function with args:\n",
    "def sum_numbers(*args):\n",
    "    total = 0\n",
    "    for num in args:\n",
    "        total += num\n",
    "    return total\n",
    "\n",
    "result = sum_numbers(1, 2, 3, 4, 5)\n",
    "print(result)\n"
   ]
  },
  {
   "cell_type": "code",
   "execution_count": 12,
   "id": "47f811ce-8364-4088-8842-8fd28dc604fb",
   "metadata": {},
   "outputs": [
    {
     "name": "stdout",
     "output_type": "stream",
     "text": [
      "name: Alice\n",
      "age: 30\n",
      "city: Wonderland\n"
     ]
    }
   ],
   "source": [
    "#**Function with kwargs:\n",
    "def display_info(**kwargs):\n",
    "    for key, value in kwargs.items():\n",
    "        print(f\"{key}: {value}\")\n",
    "\n",
    "display_info(name=\"Alice\", age=30, city=\"Wonderland\")"
   ]
  },
  {
   "cell_type": "code",
   "execution_count": 13,
   "id": "1f064097-14c8-49e1-a03f-5e8a2e3145c5",
   "metadata": {},
   "outputs": [],
   "source": [
    "#Q3. What is an iterator in python? Name the method used to initialise the iterator object and the method\n",
    "#used for iteration. Use these methods to print the first five elements of the given list [2, 4, 6, 8, 10, 12, 14,\n",
    "#16, 18, 20]."
   ]
  },
  {
   "cell_type": "code",
   "execution_count": 14,
   "id": "716c0809-c5ec-435b-92f3-c2477014f06d",
   "metadata": {},
   "outputs": [],
   "source": [
    "#ANS : In Python, an iterator is an object that represents a stream of data and can be iterated (looped) upon. \n",
    "#Iterators implement two methods: __iter__() and __next__(). The __iter__() method initializes the iterator \n",
    "#object, and the __next__() method is used for iteration, returning the next value from the iterator. "
   ]
  },
  {
   "cell_type": "code",
   "execution_count": 26,
   "id": "f159d44b-2ba0-482a-9dda-139e710735d5",
   "metadata": {},
   "outputs": [
    {
     "name": "stdout",
     "output_type": "stream",
     "text": [
      "2\n",
      "4\n",
      "6\n",
      "8\n",
      "10\n"
     ]
    }
   ],
   "source": [
    "my_list = [2, 4, 6, 8, 10, 12, 14, 16, 18, 20]\n",
    "my_iterator = iter(my_list)\n",
    "\n",
    "# Print the first five elements using the iterator\n",
    "for _ in range(5):\n",
    "    print(next(my_iterator))\n"
   ]
  },
  {
   "cell_type": "code",
   "execution_count": 27,
   "id": "9d93c1d1-c938-46ea-a202-3c2b9a90f631",
   "metadata": {},
   "outputs": [],
   "source": [
    "#Q4. What is a generator function in python? Why yield keyword is used? Give an example of a generator\n",
    "#function."
   ]
  },
  {
   "cell_type": "code",
   "execution_count": 28,
   "id": "133ebdb2-bd1c-4bd6-8e12-33cff695f9ce",
   "metadata": {},
   "outputs": [],
   "source": [
    "#ANS : A generator function in Python is a special kind of function that returns an iterator, which can be iterated over \n",
    "#to generate values on-the-fly, rather than storing them in memory. The yield keyword is used in a generator function to \n",
    "#yield values one at a time, allowing the function to pause its execution and later resume from where it left off."
   ]
  },
  {
   "cell_type": "code",
   "execution_count": 29,
   "id": "a01e0d21-7f3e-4c12-bba4-ae358717e1e8",
   "metadata": {},
   "outputs": [],
   "source": [
    "def num():\n",
    "    for i in range(5):\n",
    "        yield i"
   ]
  },
  {
   "cell_type": "code",
   "execution_count": 32,
   "id": "2beedf3f-aa29-475d-9893-fe5fbc6d04d4",
   "metadata": {},
   "outputs": [
    {
     "name": "stdout",
     "output_type": "stream",
     "text": [
      "0\n",
      "1\n",
      "2\n",
      "3\n",
      "4\n"
     ]
    }
   ],
   "source": [
    "a=num()\n",
    "for i in range(5):\n",
    "    print(next(a))"
   ]
  },
  {
   "cell_type": "code",
   "execution_count": 33,
   "id": "64298040-5825-4010-9801-d9b0c235b50f",
   "metadata": {},
   "outputs": [],
   "source": [
    "#Q5. Create a generator function for prime numbers less than 1000. Use the next() method to print the\n",
    "#first 20 prime numbers."
   ]
  },
  {
   "cell_type": "code",
   "execution_count": 34,
   "id": "40f66021-fd4e-4681-a142-1c72d5693df0",
   "metadata": {},
   "outputs": [],
   "source": [
    "#ANS : Certainly! Here's a generator function that yields prime numbers less than 1000 and uses the next() method \n",
    "#to print the first 20 prime numbers:"
   ]
  },
  {
   "cell_type": "code",
   "execution_count": 36,
   "id": "2adef80b-e625-435a-9a10-b2329c00d551",
   "metadata": {},
   "outputs": [
    {
     "name": "stdout",
     "output_type": "stream",
     "text": [
      "2\n",
      "3\n",
      "5\n",
      "7\n",
      "11\n",
      "13\n",
      "17\n",
      "19\n",
      "23\n",
      "29\n",
      "31\n",
      "37\n",
      "41\n",
      "43\n",
      "47\n",
      "53\n",
      "59\n",
      "61\n",
      "67\n",
      "71\n"
     ]
    }
   ],
   "source": [
    "def is_prime(num):\n",
    "    if num <= 1:\n",
    "        return False\n",
    "    for i in range(2, int(num**0.5) + 1):\n",
    "        if num % i == 0:\n",
    "            return False\n",
    "    return True\n",
    "\n",
    "def prime_generator():\n",
    "    num = 2\n",
    "    while num < 1000:\n",
    "        if is_prime(num):\n",
    "            yield num\n",
    "        num += 1\n",
    "prime_gen = prime_generator()\n",
    "for _ in range(20):\n",
    "    print(next(prime_gen))\n"
   ]
  },
  {
   "cell_type": "code",
   "execution_count": 37,
   "id": "7526a167-7d1c-4883-aed9-4bf73c7f3dbe",
   "metadata": {},
   "outputs": [],
   "source": [
    "#Q6. Write a python program to print the first 10 Fibonacci numbers using a while loop."
   ]
  },
  {
   "cell_type": "code",
   "execution_count": 38,
   "id": "1cacfdc6-a4f9-432f-9377-ee24906ba3b2",
   "metadata": {},
   "outputs": [],
   "source": [
    "#ANS : Certainly! Here's a Python program that prints the first 10 Fibonacci numbers using a while loop:"
   ]
  },
  {
   "cell_type": "code",
   "execution_count": 39,
   "id": "2269567e-25af-4d91-9fff-3fa59798e737",
   "metadata": {},
   "outputs": [
    {
     "name": "stdout",
     "output_type": "stream",
     "text": [
      "0 1 1 2 3 5 8 13 21 34 "
     ]
    }
   ],
   "source": [
    "def print_fibonacci():\n",
    "    count = 0\n",
    "    a, b = 0, 1\n",
    "    while count < 10:\n",
    "        print(a, end=\" \")\n",
    "        c = a + b\n",
    "        a = b\n",
    "        b = c\n",
    "        count += 1\n",
    "print_fibonacci()\n"
   ]
  },
  {
   "cell_type": "code",
   "execution_count": 40,
   "id": "16a51f33-c8b8-4e9f-8e38-a7b9f386042b",
   "metadata": {},
   "outputs": [],
   "source": [
    "#Q7. Write a List Comprehension to iterate through the given string: ‘pwskills’.\n",
    "#Expected output: ['p', 'w', 's', 'k', 'i', 'l', 'l', 's']"
   ]
  },
  {
   "cell_type": "code",
   "execution_count": 45,
   "id": "b050abb8-c9f8-4e7c-a4af-15c339c22688",
   "metadata": {},
   "outputs": [
    {
     "name": "stdout",
     "output_type": "stream",
     "text": [
      "p\n",
      "w\n",
      "s\n",
      "k\n",
      "i\n",
      "l\n",
      "l\n",
      "s\n"
     ]
    }
   ],
   "source": [
    "#ANS : \n",
    "str='pwskills'\n",
    "itr_str=iter(str)\n",
    "for _ in 'pwskills':\n",
    "    print(next(itr_str))"
   ]
  },
  {
   "cell_type": "code",
   "execution_count": 46,
   "id": "2f15618c-3509-413c-a965-d5c4cc5f2278",
   "metadata": {},
   "outputs": [],
   "source": [
    "#Q8. Write a python program to check whether a given number is Palindrome or not using a while loop."
   ]
  },
  {
   "cell_type": "code",
   "execution_count": 47,
   "id": "ad55e4ae-2162-43a3-af86-2b42cf09ff78",
   "metadata": {},
   "outputs": [],
   "source": [
    "#ANS : Certainly! Here's a Python program to check whether a given number is a palindrome or not using a while loop:"
   ]
  },
  {
   "cell_type": "code",
   "execution_count": 48,
   "id": "94ab69e3-9db5-4ae6-868b-81ead3a86cc0",
   "metadata": {},
   "outputs": [
    {
     "name": "stdin",
     "output_type": "stream",
     "text": [
      "Enter a number:  12\n"
     ]
    },
    {
     "name": "stdout",
     "output_type": "stream",
     "text": [
      "12 is not a palindrome number.\n"
     ]
    }
   ],
   "source": [
    "def is_palindrome(number):\n",
    "    original_number = number\n",
    "    reverse_number = 0\n",
    "    while number > 0:\n",
    "        digit = number % 10\n",
    "        reverse_number = reverse_number * 10 + digit\n",
    "        number = number // 10\n",
    "    return original_number == reverse_number\n",
    "\n",
    "num = int(input(\"Enter a number: \"))\n",
    "\n",
    "if is_palindrome(num):\n",
    "    print(num, \"is a palindrome number.\")\n",
    "else:\n",
    "    print(num, \"is not a palindrome number.\")\n"
   ]
  },
  {
   "cell_type": "code",
   "execution_count": 49,
   "id": "7a58f2d4-b24f-41aa-968d-fabeec19130b",
   "metadata": {},
   "outputs": [],
   "source": [
    "#Q9. Write a code to print odd numbers from 1 to 100 using list comprehension."
   ]
  },
  {
   "cell_type": "code",
   "execution_count": 50,
   "id": "c30456a1-ed2f-415e-8e0e-465d332bc004",
   "metadata": {},
   "outputs": [],
   "source": [
    "#ANS : Certainly! You can use list comprehension to generate a list of odd numbers from 1 to 100. Here's the code:"
   ]
  },
  {
   "cell_type": "code",
   "execution_count": 51,
   "id": "b829d27f-54de-4e2a-8749-246a67e09669",
   "metadata": {},
   "outputs": [
    {
     "name": "stdout",
     "output_type": "stream",
     "text": [
      "[1, 3, 5, 7, 9, 11, 13, 15, 17, 19, 21, 23, 25, 27, 29, 31, 33, 35, 37, 39, 41, 43, 45, 47, 49, 51, 53, 55, 57, 59, 61, 63, 65, 67, 69, 71, 73, 75, 77, 79, 81, 83, 85, 87, 89, 91, 93, 95, 97, 99]\n"
     ]
    }
   ],
   "source": [
    "odd_numbers = [num for num in range(1, 101) if num % 2 != 0]\n",
    "\n",
    "print(odd_numbers)\n"
   ]
  },
  {
   "cell_type": "code",
   "execution_count": null,
   "id": "12bed404-f927-4db8-b792-291a0e1b11df",
   "metadata": {},
   "outputs": [],
   "source": []
  }
 ],
 "metadata": {
  "kernelspec": {
   "display_name": "Python 3 (ipykernel)",
   "language": "python",
   "name": "python3"
  },
  "language_info": {
   "codemirror_mode": {
    "name": "ipython",
    "version": 3
   },
   "file_extension": ".py",
   "mimetype": "text/x-python",
   "name": "python",
   "nbconvert_exporter": "python",
   "pygments_lexer": "ipython3",
   "version": "3.10.8"
  }
 },
 "nbformat": 4,
 "nbformat_minor": 5
}
