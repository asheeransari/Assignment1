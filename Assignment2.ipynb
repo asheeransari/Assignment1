{
 "cells": [
  {
   "cell_type": "code",
   "execution_count": 3,
   "id": "f21f7ee5-cd44-4d9f-82de-f3dc5aa2216d",
   "metadata": {},
   "outputs": [],
   "source": [
    "# Q1. How do you comment code in Python? What are the different types of comments?"
   ]
  },
  {
   "cell_type": "code",
   "execution_count": 2,
   "id": "38cafda2-dcce-4034-99c2-b43cd59a28fa",
   "metadata": {},
   "outputs": [
    {
     "data": {
      "text/plain": [
       "'This is \\nmultiline \\ncomment'"
      ]
     },
     "execution_count": 2,
     "metadata": {},
     "output_type": "execute_result"
    }
   ],
   "source": [
    "# Ans - In python we can use # character to make a comment \n",
    "# and there is a second method to make a comment is use \n",
    "# the ''' for making multiline comment\n",
    "# Ex - \n",
    "# This is a Comment\n",
    "'''This is \n",
    "multiline \n",
    "comment'''"
   ]
  },
  {
   "cell_type": "code",
   "execution_count": 4,
   "id": "a40f1c46-fa59-4463-8fba-26a144ac14b6",
   "metadata": {},
   "outputs": [],
   "source": [
    "#Q2. What are variables in Python? How do you declare and assign values to variables?"
   ]
  },
  {
   "cell_type": "code",
   "execution_count": 5,
   "id": "cca6b21c-40fb-4bfb-bae8-754adcf54d0d",
   "metadata": {},
   "outputs": [
    {
     "name": "stdout",
     "output_type": "stream",
     "text": [
      "10\n"
     ]
    }
   ],
   "source": [
    "#Ans - Variables is like a storage that store the data \n",
    "#Ex - \n",
    "a=10\n",
    "print(a)"
   ]
  },
  {
   "cell_type": "code",
   "execution_count": 6,
   "id": "92259ad5-c458-4cfd-9d62-545e0d21150f",
   "metadata": {},
   "outputs": [],
   "source": [
    "#Q3. How do you convert one data type to another in Python?"
   ]
  },
  {
   "cell_type": "code",
   "execution_count": 11,
   "id": "5f0b1d28-f367-4094-ae27-a5165620ca1d",
   "metadata": {},
   "outputs": [
    {
     "name": "stdout",
     "output_type": "stream",
     "text": [
      "<class 'int'>\n",
      "<class 'str'>\n"
     ]
    }
   ],
   "source": [
    "#Ans - We can convert the data type to another with type casting method in python\n",
    "#Ex - \n",
    "a=10\n",
    "print(type(a))\n",
    "b=str(a)\n",
    "print(type(b))"
   ]
  },
  {
   "cell_type": "code",
   "execution_count": null,
   "id": "9022e5e3-ab31-40d7-91e1-52db7d476aa7",
   "metadata": {},
   "outputs": [],
   "source": [
    "#How do you write and execute a Python script from the command line?"
   ]
  },
  {
   "cell_type": "code",
   "execution_count": null,
   "id": "aba0f182-576b-4f12-b663-94856030e1d5",
   "metadata": {},
   "outputs": [],
   "source": [
    "# Ans - The most basic and easy way to run a Python script is by using the python command. \n",
    "# You need to open a command line and type the word python followed by the path to your script\n",
    "# file like this: python first_script.py Hello World! Then you hit the ENTER button from the \n",
    "# keyboard, and that's it."
   ]
  },
  {
   "cell_type": "code",
   "execution_count": null,
   "id": "547ef787-abcc-49f4-9b92-ef67a813ef3e",
   "metadata": {},
   "outputs": [],
   "source": [
    "#Q5. Given a list my_list = [1, 2, 3, 4, 5], write the code to slice the list and obtain the sub-list [2, 3]."
   ]
  },
  {
   "cell_type": "code",
   "execution_count": null,
   "id": "644d5f9a-e405-4808-bfa7-67797b67a698",
   "metadata": {},
   "outputs": [],
   "source": [
    "#Ans - \n",
    "my_list = [1, 2, 3, 4, 5]\n",
    "print(my_list[1:3])"
   ]
  },
  {
   "cell_type": "code",
   "execution_count": null,
   "id": "50db9512-6e77-43b6-8e85-0ecf471f2cc0",
   "metadata": {},
   "outputs": [],
   "source": [
    "#Q6. What is a complex number in mathematics, and how is it represented in Python?"
   ]
  },
  {
   "cell_type": "code",
   "execution_count": null,
   "id": "670edf9a-76a4-448f-992b-ba800873f8c8",
   "metadata": {},
   "outputs": [],
   "source": [
    "# Ans - A complex number in mathematics is a number that can be expressed in \n",
    "# the form \"a + bi,\" where \"a\" and \"b\" are real numbers, and \"i\" is the \n",
    "# imaginary unit, which is defined as the square root of -1. In this \n",
    "# expression, \"a\" represents the real part of the complex number, and\n",
    "# \"b\" represents the imaginary part. "
   ]
  },
  {
   "cell_type": "code",
   "execution_count": 12,
   "id": "71b47463-e792-4a5f-adf4-7420499057c5",
   "metadata": {},
   "outputs": [
    {
     "data": {
      "text/plain": [
       "complex"
      ]
     },
     "execution_count": 12,
     "metadata": {},
     "output_type": "execute_result"
    }
   ],
   "source": [
    "a=4+5j\n",
    "type(a)"
   ]
  },
  {
   "cell_type": "code",
   "execution_count": null,
   "id": "8cbec241-a669-4d92-9497-9be410165008",
   "metadata": {},
   "outputs": [],
   "source": [
    "# Q7. What is the correct way to declare a variable named age and assign the value 25 to it?"
   ]
  },
  {
   "cell_type": "code",
   "execution_count": 15,
   "id": "91214b0f-5fd7-4352-b264-d0aa76f0be8b",
   "metadata": {},
   "outputs": [],
   "source": [
    "# Ans - \n",
    "age = 25"
   ]
  },
  {
   "cell_type": "code",
   "execution_count": 14,
   "id": "308ef9ac-605d-4c61-9526-72d55adfc742",
   "metadata": {},
   "outputs": [],
   "source": [
    "# Q8. Declare a variable named price and assign the value 9.99 to it. What data type does this variable\n",
    "# belong to?"
   ]
  },
  {
   "cell_type": "code",
   "execution_count": 17,
   "id": "20b22d85-8b52-4731-9b08-afad36ee97f3",
   "metadata": {},
   "outputs": [],
   "source": [
    "#Ans - \n",
    "price = 9.99\n",
    "# This variable is float data type "
   ]
  },
  {
   "cell_type": "code",
   "execution_count": 18,
   "id": "50fd35b3-3b2a-4dd8-82ff-83a2056f6332",
   "metadata": {},
   "outputs": [],
   "source": [
    "#Q9. Create a variable named name and assign your full name to it as a string. How would you print the\n",
    "#value of this variable?"
   ]
  },
  {
   "cell_type": "code",
   "execution_count": 19,
   "id": "306d92ab-d4b5-4a30-a611-4f610e6230d8",
   "metadata": {},
   "outputs": [
    {
     "name": "stdout",
     "output_type": "stream",
     "text": [
      "Asheer Ahmad Ansari\n"
     ]
    }
   ],
   "source": [
    "#Ans - \n",
    "name = \"Asheer Ahmad Ansari\"\n",
    "print(name)"
   ]
  },
  {
   "cell_type": "code",
   "execution_count": 20,
   "id": "17e2f430-02a6-4a94-89ed-935a5975daf7",
   "metadata": {},
   "outputs": [],
   "source": [
    "#Q10. Given the string \"Hello, World!\", extract the substring \"World\"."
   ]
  },
  {
   "cell_type": "code",
   "execution_count": 21,
   "id": "5332f69d-158e-4ab6-a601-5e9c0c8366b9",
   "metadata": {},
   "outputs": [
    {
     "name": "stdout",
     "output_type": "stream",
     "text": [
      "World\n"
     ]
    }
   ],
   "source": [
    "#Ans - \n",
    "str = \"Hello, World!\"\n",
    "print(str[7:12])"
   ]
  },
  {
   "cell_type": "code",
   "execution_count": 22,
   "id": "5ffb27aa-8f26-40bf-b75a-ebcc4dca30f2",
   "metadata": {},
   "outputs": [],
   "source": [
    "#Ans - Certainly! To create a variable named \"is_student\" and assign it a boolean value\n",
    "#indicating whether you are currently a student or not, you can do the following in Python:\n",
    "is_student = True \n",
    "# OR\n",
    "is_student = False"
   ]
  }
 ],
 "metadata": {
  "kernelspec": {
   "display_name": "Python 3 (ipykernel)",
   "language": "python",
   "name": "python3"
  },
  "language_info": {
   "codemirror_mode": {
    "name": "ipython",
    "version": 3
   },
   "file_extension": ".py",
   "mimetype": "text/x-python",
   "name": "python",
   "nbconvert_exporter": "python",
   "pygments_lexer": "ipython3",
   "version": "3.10.8"
  }
 },
 "nbformat": 4,
 "nbformat_minor": 5
}
