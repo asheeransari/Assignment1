{
 "cells": [
  {
   "cell_type": "code",
   "execution_count": 1,
   "id": "fdc22701-fc69-41e1-9f08-27bf1efe73cd",
   "metadata": {},
   "outputs": [],
   "source": [
    "# Q1. Create one variable containing following type of data:\n",
    "#ANS : \n",
    "#(i) string\n",
    "str=\"Hello\"\n",
    "#(ii) list\n",
    "list=[1,2,3,4,5]\n",
    "#(iii) float\n",
    "f=15.23\n",
    "#(iv) tuple\n",
    "tup=(1,'abc',3.21,True)"
   ]
  },
  {
   "cell_type": "code",
   "execution_count": null,
   "id": "f0c2f675-a429-4157-9304-84662c3c8916",
   "metadata": {},
   "outputs": [],
   "source": [
    "Q2. Given are some following variables containing data:\n",
    "(i) var1 = ‘ ‘\n",
    "(ii) var2 = ‘[ DS , ML , Python]’\n",
    "(iii) var3 = [ ‘DS’ , ’ML’ , ‘Python’ ]\n",
    "(iv) var4 = 1.\n",
    "What will be the data type of the above given variable."
   ]
  },
  {
   "cell_type": "code",
   "execution_count": null,
   "id": "0ad63884-653e-42b5-b0ad-d5ead91cfca8",
   "metadata": {},
   "outputs": [],
   "source": [
    "ANS - \n",
    "(i) var1 = ‘ ‘\n",
    "-> Data type is String\n",
    "(ii) var2 = ‘[ DS , ML , Python]’\n",
    "-> Data type is String\n",
    "(iii) var3 = [ ‘DS’ , ’ML’ , ‘Python’ ]\n",
    "-> Data type is List\n",
    "(iv) var4 = 1.\n",
    "-> Data type is float"
   ]
  },
  {
   "cell_type": "code",
   "execution_count": null,
   "id": "263a4295-b9ed-464d-8a4d-4679c1541fa7",
   "metadata": {},
   "outputs": [],
   "source": [
    "Q3. Explain the use of the following operators using an example:\n",
    "(i) /\n",
    "(ii) %\n",
    "(iii) //\n",
    "(iv) **"
   ]
  },
  {
   "cell_type": "code",
   "execution_count": 5,
   "id": "9d4f7973-a412-4abe-93bf-d7ac21fa2c63",
   "metadata": {},
   "outputs": [
    {
     "name": "stdout",
     "output_type": "stream",
     "text": [
      "2.0\n"
     ]
    }
   ],
   "source": [
    "#ANS - \n",
    "#(i) /\n",
    "#-> This is Arithmetic operator and Division operator\n",
    "div=10/5\n",
    "print(div)"
   ]
  },
  {
   "cell_type": "code",
   "execution_count": 6,
   "id": "6f27fdf8-4087-4b84-a651-3870525ed56b",
   "metadata": {},
   "outputs": [
    {
     "name": "stdout",
     "output_type": "stream",
     "text": [
      "0\n"
     ]
    }
   ],
   "source": [
    "#ANS - \n",
    "#(ii) %\n",
    "#-> This is type of Arithmetic operator and Modulus operator\n",
    "div=10%5\n",
    "print(div)"
   ]
  },
  {
   "cell_type": "code",
   "execution_count": 7,
   "id": "2bd42120-3e96-42cc-acf2-fc31004d079a",
   "metadata": {},
   "outputs": [
    {
     "name": "stdout",
     "output_type": "stream",
     "text": [
      "2\n"
     ]
    }
   ],
   "source": [
    "#ANS - \n",
    "#(iii) //\n",
    "#-> This is type of Arithmetic operator and Floor division operator\n",
    "#rounds the result down to the nearest whole number\n",
    "div=10//5\n",
    "print(div)"
   ]
  },
  {
   "cell_type": "code",
   "execution_count": null,
   "id": "a406d2c1-9bd3-4d6e-b19e-2832d5a5e7e5",
   "metadata": {},
   "outputs": [],
   "source": [
    "#ANS - \n",
    "#(iii) //\n",
    "#-> This is type of Arithmetic operator and Floor division operator\n",
    "#rounds the result down to the nearest whole number\n",
    "div=10//5\n",
    "print(div)"
   ]
  },
  {
   "cell_type": "code",
   "execution_count": 9,
   "id": "6f8cdf5f-1c37-424e-a132-9bdc29f38eb3",
   "metadata": {},
   "outputs": [
    {
     "name": "stdout",
     "output_type": "stream",
     "text": [
      "100000\n"
     ]
    }
   ],
   "source": [
    "#ANS - \n",
    "#(iv) **\n",
    "#-> This is type of Arithmetic operator and Exponentiation operator\n",
    "#same as 2*2*2*2*2\n",
    "div=10**5\n",
    "print(div)"
   ]
  },
  {
   "cell_type": "code",
   "execution_count": null,
   "id": "11cfe38e-7b65-44eb-9c76-13d24790028a",
   "metadata": {},
   "outputs": [],
   "source": [
    "Q4. Create a list of length 10 of your choice containing multiple types of data. Using for loop print the\n",
    "element and its data type."
   ]
  },
  {
   "cell_type": "code",
   "execution_count": 11,
   "id": "3f726edf-b3df-4208-bcc5-3047f3d9eadc",
   "metadata": {},
   "outputs": [
    {
     "name": "stdout",
     "output_type": "stream",
     "text": [
      "<class 'int'>\n",
      "<class 'str'>\n",
      "<class 'float'>\n",
      "<class 'bool'>\n",
      "<class 'complex'>\n",
      "<class 'str'>\n",
      "<class 'int'>\n",
      "<class 'float'>\n",
      "<class 'bool'>\n",
      "<class 'complex'>\n"
     ]
    }
   ],
   "source": [
    "#ANS -\n",
    "li=[1,\"abc\",3.14,True,5+4j,\"lmn\",2,5.46,False,3+5j]\n",
    "for i in li:\n",
    "    print(type(i))"
   ]
  },
  {
   "cell_type": "code",
   "execution_count": null,
   "id": "a2bca6ae-1dda-4fd8-bd22-11eccf9ef153",
   "metadata": {},
   "outputs": [],
   "source": [
    "Q5. Using a while loop, verify if the number A is purely divisible by number B and if so then how many\n",
    "times it can be divisible."
   ]
  },
  {
   "cell_type": "code",
   "execution_count": 13,
   "id": "4eff1ca5-3c63-4408-9ed7-f6827d1d36f6",
   "metadata": {},
   "outputs": [
    {
     "name": "stdin",
     "output_type": "stream",
     "text": [
      "Enter number A:  10\n",
      "Enter number B:  5\n"
     ]
    },
    {
     "name": "stdout",
     "output_type": "stream",
     "text": [
      "2.0 is not purely divisible by 5.\n"
     ]
    }
   ],
   "source": [
    "A = int(input(\"Enter number A: \"))\n",
    "B = int(input(\"Enter number B: \"))\n",
    "\n",
    "count = 0\n",
    "\n",
    "while A % B == 0:\n",
    "    A =A/B  \n",
    "    count =count+1\n",
    "\n",
    "if A == 0:\n",
    "    print(f\"{A} is purely divisible by {B} and can be divided {count} times.\")\n",
    "else:\n",
    "    print(f\"{A} is not purely divisible by {B}.\")\n"
   ]
  },
  {
   "cell_type": "code",
   "execution_count": null,
   "id": "b0652194-ef6d-4888-88cc-64105e46da8c",
   "metadata": {},
   "outputs": [],
   "source": [
    "Q6. Create a list containing 25 int type data. Using for loop and if-else condition print if the element is\n",
    "divisible by 3 or not."
   ]
  },
  {
   "cell_type": "code",
   "execution_count": 15,
   "id": "ecaf52f5-c925-4bf0-a860-a2653fb96671",
   "metadata": {},
   "outputs": [
    {
     "name": "stdout",
     "output_type": "stream",
     "text": [
      "1 is not divisible by 3\n",
      "2 is not divisible by 3\n",
      "3 is divisible by 3\n",
      "4 is not divisible by 3\n",
      "5 is not divisible by 3\n",
      "6 is divisible by 3\n",
      "7 is not divisible by 3\n",
      "8 is not divisible by 3\n",
      "9 is divisible by 3\n",
      "10 is not divisible by 3\n",
      "11 is not divisible by 3\n",
      "12 is divisible by 3\n",
      "13 is not divisible by 3\n",
      "14 is not divisible by 3\n",
      "15 is divisible by 3\n",
      "16 is not divisible by 3\n",
      "17 is not divisible by 3\n",
      "18 is divisible by 3\n",
      "19 is not divisible by 3\n",
      "20 is not divisible by 3\n",
      "21 is divisible by 3\n",
      "22 is not divisible by 3\n",
      "23 is not divisible by 3\n",
      "24 is divisible by 3\n",
      "25 is not divisible by 3\n"
     ]
    }
   ],
   "source": [
    "#ANS - \n",
    "list=[1,2,3,4,5,6,7,8,9,10,11,12,13,14,15,16,17,18,19,20,21,22,23,24,25]\n",
    "for i in list:\n",
    "    if i%3==0:\n",
    "        print(f\"{i} is divisible by 3\")\n",
    "    else:\n",
    "        print(f\"{i} is not divisible by 3\")"
   ]
  },
  {
   "cell_type": "code",
   "execution_count": null,
   "id": "bf9f570b-229f-4afd-888a-30a57d3a96ce",
   "metadata": {},
   "outputs": [],
   "source": [
    "Q7. What do you understand about mutable and immutable data types? Give examples for both showing\n",
    "this property."
   ]
  },
  {
   "cell_type": "code",
   "execution_count": null,
   "id": "4118acda-a677-4636-b371-0167a158cc22",
   "metadata": {},
   "outputs": [],
   "source": [
    "#ANS - \n",
    "mutable -\n",
    "List is Mutable because it change with there index \n",
    "we can chanege,modify and Delete the list item \n",
    "hence this is called mutable.\n",
    "\n",
    "Immutable -\n",
    "String are Immutable because it does not change with there index\n",
    "we can not change and modify the String items\n",
    "hence String is immutable."
   ]
  },
  {
   "cell_type": "code",
   "execution_count": 16,
   "id": "430d1d3c-074a-4e01-aa42-605505e0ecfb",
   "metadata": {},
   "outputs": [
    {
     "ename": "TypeError",
     "evalue": "'str' object does not support item assignment",
     "output_type": "error",
     "traceback": [
      "\u001b[0;31m---------------------------------------------------------------------------\u001b[0m",
      "\u001b[0;31mTypeError\u001b[0m                                 Traceback (most recent call last)",
      "Cell \u001b[0;32mIn[16], line 2\u001b[0m\n\u001b[1;32m      1\u001b[0m \u001b[38;5;28mstr\u001b[39m\u001b[38;5;241m=\u001b[39m\u001b[38;5;124m\"\u001b[39m\u001b[38;5;124mGame\u001b[39m\u001b[38;5;124m\"\u001b[39m\n\u001b[0;32m----> 2\u001b[0m \u001b[38;5;28;43mstr\u001b[39;49m\u001b[43m[\u001b[49m\u001b[38;5;241;43m0\u001b[39;49m\u001b[43m]\u001b[49m\u001b[38;5;241m=\u001b[39m\u001b[38;5;124m\"\u001b[39m\u001b[38;5;124mS\u001b[39m\u001b[38;5;124m\"\u001b[39m\n",
      "\u001b[0;31mTypeError\u001b[0m: 'str' object does not support item assignment"
     ]
    }
   ],
   "source": [
    "str=\"Game\"\n",
    "str[0]=\"S\""
   ]
  },
  {
   "cell_type": "code",
   "execution_count": null,
   "id": "596bd121-4c1d-4a08-a22a-8f9e9776b00c",
   "metadata": {},
   "outputs": [],
   "source": [
    "This show Error because this is immutable."
   ]
  },
  {
   "cell_type": "code",
   "execution_count": 19,
   "id": "cd75ab6e-a81c-4f38-9854-1bb36becc5fb",
   "metadata": {},
   "outputs": [
    {
     "name": "stdout",
     "output_type": "stream",
     "text": [
      "[1, 'abc', 3.14, True, (5+4j)]\n"
     ]
    }
   ],
   "source": [
    "list=[1,\"abc\",3.14,True,5+4j]\n",
    "print(list)"
   ]
  },
  {
   "cell_type": "code",
   "execution_count": 20,
   "id": "19c308e3-0f39-4490-8c58-bd4bdd207e87",
   "metadata": {},
   "outputs": [],
   "source": [
    "list[1]=\"Hello\""
   ]
  },
  {
   "cell_type": "code",
   "execution_count": 21,
   "id": "1c025e99-9cea-4b4e-afbc-57abb8abcf38",
   "metadata": {},
   "outputs": [
    {
     "name": "stdout",
     "output_type": "stream",
     "text": [
      "[1, 'Hello', 3.14, True, (5+4j)]\n"
     ]
    }
   ],
   "source": [
    "print(list)"
   ]
  },
  {
   "cell_type": "code",
   "execution_count": null,
   "id": "e1d373da-affd-4576-af51-0ddb466a3722",
   "metadata": {},
   "outputs": [],
   "source": [
    "This change with index therefore this is Mutable."
   ]
  }
 ],
 "metadata": {
  "kernelspec": {
   "display_name": "Python 3 (ipykernel)",
   "language": "python",
   "name": "python3"
  },
  "language_info": {
   "codemirror_mode": {
    "name": "ipython",
    "version": 3
   },
   "file_extension": ".py",
   "mimetype": "text/x-python",
   "name": "python",
   "nbconvert_exporter": "python",
   "pygments_lexer": "ipython3",
   "version": "3.10.8"
  }
 },
 "nbformat": 4,
 "nbformat_minor": 5
}
