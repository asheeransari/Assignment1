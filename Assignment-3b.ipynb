{
 "cells": [
  {
   "cell_type": "code",
   "execution_count": null,
   "id": "c3cabbe9-9943-44a0-a205-ccaedd28f5e6",
   "metadata": {},
   "outputs": [],
   "source": [
    "#Q1. Create a python program to sort the given list of tuples based on integer value using a \n",
    "#lambda function. \n",
    "\n",
    "\n",
    "#[('Sachin Tendulkar', 34357), ('Ricky Ponting', 27483), ('Jack Kallis', 25534), ('Virat Kohli', 24936)]"
   ]
  },
  {
   "cell_type": "code",
   "execution_count": 2,
   "id": "99f9b9e2-467e-4e1b-b93f-e1962c53e499",
   "metadata": {},
   "outputs": [],
   "source": [
    "#ANS : sorted() function in Python along with a lambda function to sort the given list of tuples based on the integer value.\n",
    "#Here's the Python program to achieve that:"
   ]
  },
  {
   "cell_type": "code",
   "execution_count": 3,
   "id": "aaf45dfb-89a6-4a77-aa70-7d3fd66e3217",
   "metadata": {},
   "outputs": [
    {
     "name": "stdout",
     "output_type": "stream",
     "text": [
      "Sorted list of tuples based on integer value:\n",
      "[('Virat Kohli', 24936), ('Jack Kallis', 25534), ('Ricky Ponting', 27483), ('Sachin Tendulkar', 34357)]\n"
     ]
    }
   ],
   "source": [
    "data = [('Sachin Tendulkar', 34357), ('Ricky Ponting', 27483), ('Jack Kallis', 25534), ('Virat Kohli', 24936)]\n",
    "sorted_data = sorted(data, key=lambda x: x[1])\n",
    "\n",
    "# Printing the sorted list\n",
    "print(\"Sorted list of tuples based on integer value:\")\n",
    "print(sorted_data)\n"
   ]
  },
  {
   "cell_type": "code",
   "execution_count": 4,
   "id": "fc38872c-2128-4ece-bff9-8eb8b150006c",
   "metadata": {},
   "outputs": [],
   "source": [
    "#Q2. Write a Python Program to find the squares of all the numbers in the given list of integers using \n",
    "#lambda and map functions.\n",
    "#[1, 2, 3, 4, 5, 6, 7, 8, 9, 10]"
   ]
  },
  {
   "cell_type": "code",
   "execution_count": 5,
   "id": "46978f77-d014-47d5-acbe-00132c42c8a6",
   "metadata": {},
   "outputs": [],
   "source": [
    "#ANS : map() function along with a lambda function to find the squares of all the numbers in a given list of integers.\n",
    "#Here's the Python program to achieve that:"
   ]
  },
  {
   "cell_type": "code",
   "execution_count": 7,
   "id": "46b7014b-2e6b-4bf3-9bcc-0c54e868f21e",
   "metadata": {},
   "outputs": [
    {
     "name": "stdout",
     "output_type": "stream",
     "text": [
      "Squares of numbers in the given list:\n",
      "[1, 4, 9, 16, 25, 36, 49, 64, 81, 100]\n"
     ]
    }
   ],
   "source": [
    "numbers = [1, 2, 3, 4, 5, 6, 7, 8, 9, 10]\n",
    "\n",
    "squares = list(map(lambda x: x**2, numbers))\n",
    "\n",
    "# Printing the list of squares\n",
    "print(\"Squares of numbers in the given list:\")\n",
    "print(squares)\n"
   ]
  },
  {
   "cell_type": "code",
   "execution_count": 8,
   "id": "1eccdf92-1064-4800-888f-6a6ab61b1174",
   "metadata": {},
   "outputs": [],
   "source": [
    "#Q3. Write a python program to convert the given list of integers into a tuple of strings. Use map and \n",
    "#lambda functions\n",
    "\n",
    "#Given String: [1, 2, 3, 4, 5, 6, 7, 8, 9, 10]\n",
    "\n",
    "#Expected output: ('1', '2', '3', '4', '5', '6', '7', '8', '9', '10')"
   ]
  },
  {
   "cell_type": "code",
   "execution_count": 9,
   "id": "51bb9dbf-eecc-43af-b1a9-01b339ce313e",
   "metadata": {},
   "outputs": [
    {
     "name": "stdout",
     "output_type": "stream",
     "text": [
      "Tuple of strings from the given list of integers:\n",
      "('1', '2', '3', '4', '5', '6', '7', '8', '9', '10')\n"
     ]
    }
   ],
   "source": [
    "#ANS : \n",
    "numbers = [1, 2, 3, 4, 5, 6, 7, 8, 9, 10]\n",
    "\n",
    "tuple_of_strings = tuple(map(lambda x: str(x), numbers))\n",
    "\n",
    "# Printing the tuple of strings\n",
    "print(\"Tuple of strings from the given list of integers:\")\n",
    "print(tuple_of_strings)\n"
   ]
  },
  {
   "cell_type": "code",
   "execution_count": 10,
   "id": "98bca59b-505e-426e-8140-739a93d78577",
   "metadata": {},
   "outputs": [],
   "source": [
    "#Q4.  Write a python program using reduce function to compute the product of a list containing numbers \n",
    "#from 1 to 25"
   ]
  },
  {
   "cell_type": "code",
   "execution_count": 11,
   "id": "1ec02302-091c-4a30-99fd-c8e29853b434",
   "metadata": {},
   "outputs": [],
   "source": [
    "#ANS : reduce() function from the functools module to compute the product of a list containing numbers from 1 to 25. \n",
    "#Here's the Python program to achieve that:"
   ]
  },
  {
   "cell_type": "code",
   "execution_count": 12,
   "id": "ea59fe3c-0a2d-4e1d-89ba-69a3dcf98fdc",
   "metadata": {},
   "outputs": [
    {
     "name": "stdout",
     "output_type": "stream",
     "text": [
      "Product of numbers from 1 to 25: 15511210043330985984000000\n"
     ]
    }
   ],
   "source": [
    "from functools import reduce\n",
    "\n",
    "numbers = list(range(1, 26))\n",
    "\n",
    "product = reduce(lambda x, y: x * y, numbers)\n",
    "\n",
    "# Printing the product of the list\n",
    "print(\"Product of numbers from 1 to 25:\", product)\n"
   ]
  },
  {
   "cell_type": "code",
   "execution_count": 13,
   "id": "2620cc31-19cc-433c-8828-459f706e66e6",
   "metadata": {},
   "outputs": [],
   "source": [
    "#Q5. Write a python program to filter the numbers in a given list that are divisible by 2 and 3 using the \n",
    "#filter function.\n",
    "#[2, 3, 6, 9, 27, 60, 90, 120, 55, 46]"
   ]
  },
  {
   "cell_type": "code",
   "execution_count": 14,
   "id": "8068f216-5ada-4ed6-829e-422ecc887b66",
   "metadata": {},
   "outputs": [],
   "source": [
    "#ANS : filter() function to filter the numbers in the given list that are divisible by 2 and 3. \n",
    "#Here's the Python program to achieve that:"
   ]
  },
  {
   "cell_type": "code",
   "execution_count": 15,
   "id": "5b2cb3d0-a4b4-42bb-8f17-b64c2bc6d5ca",
   "metadata": {},
   "outputs": [
    {
     "name": "stdout",
     "output_type": "stream",
     "text": [
      "Numbers divisible by 2 and 3: [6, 60, 90, 120]\n"
     ]
    }
   ],
   "source": [
    "numbers = [2, 3, 6, 9, 27, 60, 90, 120, 55, 46]\n",
    "\n",
    "filtered_numbers = list(filter(lambda x: x % 2 == 0 and x % 3 == 0, numbers))\n",
    "\n",
    "# Printing the filtered numbers\n",
    "print(\"Numbers divisible by 2 and 3:\", filtered_numbers)\n"
   ]
  },
  {
   "cell_type": "code",
   "execution_count": 16,
   "id": "9b3f7b80-e5a7-4910-a3d6-b86165c8631d",
   "metadata": {},
   "outputs": [],
   "source": [
    "#Q6. Write a python program to find palindromes in the given list of strings using lambda and filter \n",
    "#function.\n",
    "#['python', 'php', 'aba', 'radar', 'level']"
   ]
  },
  {
   "cell_type": "code",
   "execution_count": 17,
   "id": "d28a6026-3d69-4173-9a24-c346d5f2e944",
   "metadata": {},
   "outputs": [
    {
     "name": "stdout",
     "output_type": "stream",
     "text": [
      "Palindromes in the given list: ['php', 'aba', 'radar', 'level']\n"
     ]
    }
   ],
   "source": [
    "#ANS : \n",
    "words = ['python', 'php', 'aba', 'radar', 'level']\n",
    "\n",
    "palindromes = list(filter(lambda word: word == word[::-1], words))\n",
    "\n",
    "# Printing the palindromes\n",
    "print(\"Palindromes in the given list:\", palindromes)\n"
   ]
  },
  {
   "cell_type": "code",
   "execution_count": null,
   "id": "dc4e8168-567d-446c-985c-beddc0a2332e",
   "metadata": {},
   "outputs": [],
   "source": []
  }
 ],
 "metadata": {
  "kernelspec": {
   "display_name": "Python 3 (ipykernel)",
   "language": "python",
   "name": "python3"
  },
  "language_info": {
   "codemirror_mode": {
    "name": "ipython",
    "version": 3
   },
   "file_extension": ".py",
   "mimetype": "text/x-python",
   "name": "python",
   "nbconvert_exporter": "python",
   "pygments_lexer": "ipython3",
   "version": "3.10.8"
  }
 },
 "nbformat": 4,
 "nbformat_minor": 5
}
